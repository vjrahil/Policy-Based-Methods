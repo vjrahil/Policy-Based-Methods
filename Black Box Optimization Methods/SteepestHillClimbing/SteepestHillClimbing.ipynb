{
 "cells": [
  {
   "cell_type": "code",
   "execution_count": 1,
   "metadata": {},
   "outputs": [],
   "source": [
    "import numpy as np\n",
    "import math \n",
    "import random\n",
    "import matplotlib.pyplot as plt\n",
    "%matplotlib inline\n",
    "from collections import deque\n",
    "import torch\n",
    "import torch.nn as nn\n",
    "import torch.nn.functional as F\n",
    "\n",
    "\n",
    "import gym"
   ]
  },
  {
   "cell_type": "code",
   "execution_count": 2,
   "metadata": {},
   "outputs": [
    {
     "name": "stdout",
     "output_type": "stream",
     "text": [
      "cuda:0\n",
      "Discrete(2)\n",
      "Box(4,)\n"
     ]
    }
   ],
   "source": [
    "device = torch.device(\"cuda:0\" if torch.cuda.is_available() else \"cpu\")\n",
    "env = gym.make('CartPole-v0')\n",
    "env.seed(101)\n",
    "np.random.seed(101)\n",
    "print(device)\n",
    "print(env.action_space)\n",
    "print(env.observation_space)"
   ]
  },
  {
   "cell_type": "code",
   "execution_count": 3,
   "metadata": {},
   "outputs": [],
   "source": [
    "class Agent(nn.Module):\n",
    "    def __init__(self,env,h_size = 32,a_size = 2):\n",
    "        super(Agent,self).__init__()\n",
    "        self.s_size = env.observation_space.shape[0]\n",
    "        self.a_size = a_size\n",
    "        self.h_size = h_size\n",
    "        self.env = env\n",
    "        \n",
    "        self.fc1 = nn.Linear(self.s_size,self.h_size)\n",
    "        self.fc2 = nn.Linear(self.h_size,self.a_size)\n",
    "    \n",
    "    def set_weight(self,weights):\n",
    "        fc1_end = (self.s_size*self.h_size) + self.h_size\n",
    "        fc1_W = torch.from_numpy(weights[:self.s_size*self.h_size].reshape(self.s_size,self.h_size))\n",
    "        fc1_b = torch.from_numpy(weights[self.s_size*self.h_size:fc1_end])\n",
    "        fc2_W = torch.from_numpy(weights[fc1_end:fc1_end + self.h_size*self.a_size].reshape(self.h_size,self.a_size))\n",
    "        fc2_b = torch.from_numpy(weights[fc1_end + self.h_size*self.a_size:])\n",
    "        \n",
    "        self.fc1.weight.data.copy_(fc1_W.view_as(self.fc1.weight.data))\n",
    "        self.fc1.bias.data.copy_(fc1_b.view_as(self.fc1.bias.data))\n",
    "        \n",
    "        self.fc2.weight.data.copy_(fc2_W.view_as(self.fc2.weight.data))\n",
    "        self.fc2.bias.data.copy_(fc2_b.view_as(self.fc2.bias.data))\n",
    "    \n",
    "    def get_weights_dim(self):\n",
    "        return (self.s_size + 1)*self.h_size + (self.h_size + 1)*self.a_size\n",
    "    \n",
    "    def forward(self,x):\n",
    "        x = F.relu(self.fc1(x))\n",
    "        x = F.softmax(self.fc2(x))\n",
    "        return x\n",
    "    \n",
    "    def act(self,state):\n",
    "        \n",
    "        x = self.forward(state)\n",
    "        #ind = np.random.choice(ind,p = x) for stochastic\n",
    "        ind = np.argmax(x.cpu().detach().numpy()) #for deterministic\n",
    "        return ind\n",
    "    \n",
    "    def evaluate(self,weight,t_max = 5000,gamma = 1.0):\n",
    "        self.set_weight(weight)\n",
    "        state = self.env.reset()\n",
    "        total = 0.0 \n",
    "        for i in range(t_max):\n",
    "            state = torch.from_numpy(state).float().to(device)\n",
    "            action = self.act(state)\n",
    "            state,reward,done,_ = self.env.step(action)\n",
    "            total += reward*math.pow(gamma,i)\n",
    "            if done:\n",
    "                break\n",
    "        return total\n",
    "    \n",
    "agent = Agent(env).to(device)\n",
    "        "
   ]
  },
  {
   "cell_type": "code",
   "execution_count": 4,
   "metadata": {},
   "outputs": [
    {
     "name": "stderr",
     "output_type": "stream",
     "text": [
      "/home/vj_rahil/anaconda3/envs/env1/lib/python3.7/site-packages/ipykernel_launcher.py:30: UserWarning: Implicit dimension choice for softmax has been deprecated. Change the call to include dim=X as an argument.\n"
     ]
    },
    {
     "name": "stdout",
     "output_type": "stream",
     "text": [
      "Episode:0\t Average Score : 69.00\n",
      "Episode:10\t Average Score : 171.55\n",
      "Episode:20\t Average Score : 181.33\n",
      "Episode:30\t Average Score : 178.71\n",
      "Episode:40\t Average Score : 182.78\n",
      "Episode:50\t Average Score : 186.10\n",
      "Episode:60\t Average Score : 188.38\n",
      "Episode:70\t Average Score : 190.01\n",
      "Episode:80\t Average Score : 191.25\n",
      "Episode:90\t Average Score : 192.21\n",
      "Episode:100\t Average Score : 190.49\n",
      "Episode:110\t Average Score : 192.31\n",
      "Episode:120\t Average Score : 192.86\n",
      "RL environment solved at episode : 24\t Average Score : 195.54\n"
     ]
    },
    {
     "data": {
      "image/png": "[encoded data removed]",
      "text/plain": [
       "<Figure size 432x288 with 1 Axes>"
      ]
     },
     "metadata": {
      "needs_background": "light"
     },
     "output_type": "display_data"
    }
   ],
   "source": [
    "def SteepestHillClimbing(num_episodes = 1000,max_t = 5000,pop_size = 100,n_elite = 1,print_every = 10,noise_scale = 1e-2,gamma = 1.0):\n",
    "    \n",
    "    scores = []\n",
    "    scores_deque = deque(maxlen = 100)\n",
    "    best_weights = 1e-4*np.random.randn(agent.get_weights_dim())\n",
    "    R = -np.Inf\n",
    "    for i_episode in range(num_episodes):\n",
    "        pop_weights = [best_weights + noise_scale*(np.random.randn(agent.get_weights_dim())) for i in range(pop_size)]\n",
    "        pop_rewards = np.array([agent.evaluate(weight,max_t,gamma) for weight in pop_weights])\n",
    "        elite_index = pop_rewards.argsort()[-1]\n",
    "        \n",
    "        if pop_rewards[elite_index] >= R:\n",
    "            R = pop_rewards[elite_index]\n",
    "            best_weights = pop_weights[elite_index]\n",
    "            noise_scale = max(1e-3,noise_scale/2)\n",
    "        \n",
    "        if pop_rewards[elite_index] < R:\n",
    "            noise_scale = min(2,noise_scale*2)\n",
    "        \n",
    "        reward = agent.evaluate(best_weights)\n",
    "        scores_deque.append(reward)\n",
    "        scores.append(reward)\n",
    "        torch.save(agent.state_dict(),'checkpoint1.pth')\n",
    "        \n",
    "        if i_episode%print_every == 0:\n",
    "            print('Episode:{}\\t Average Score : {:.2f}'.format(i_episode,np.mean(scores_deque)))\n",
    "        if np.mean(np.mean(scores_deque) >= 195.0):\n",
    "            print('RL environment solved at episode : {}\\t Average Score : {:.2f}'.format(i_episode - 100,np.mean(scores_deque)))\n",
    "            break\n",
    "    return scores\n",
    "\n",
    "scores = SteepestHillClimbing()\n",
    "\n",
    "fig = plt.figure()\n",
    "ax = fig.add_subplot(111)\n",
    "plt.plot(np.arange(1, len(scores)+1), scores)\n",
    "plt.ylabel('Score')\n",
    "plt.xlabel('Episode #')\n",
    "plt.show()"
   ]
  },
  {
   "cell_type": "code",
   "execution_count": 5,
   "metadata": {},
   "outputs": [
    {
     "name": "stderr",
     "output_type": "stream",
     "text": [
      "/home/vj_rahil/anaconda3/envs/env1/lib/python3.7/site-packages/ipykernel_launcher.py:30: UserWarning: Implicit dimension choice for softmax has been deprecated. Change the call to include dim=X as an argument.\n"
     ]
    }
   ],
   "source": [
    "agent.load_state_dict(torch.load('checkpoint1.pth'))\n",
    "env = gym.make('CartPole-v0')\n",
    "state = env.reset()\n",
    "#img = plt.imshow(env.render(mode='rgb_array'))\n",
    "for t in range(200):\n",
    "    state = torch.from_numpy(state).float().to(device)\n",
    "    action = agent.act(state)\n",
    "    env.render()\n",
    "    #display.clear_output(wait=True)\n",
    "    state, reward, done, _ = env.step(action)\n",
    "    if done:\n",
    "        break \n",
    "\n",
    "env.close()"
   ]
  }
 ],
 "metadata": {
  "kernelspec": {
   "display_name": "Python 3",
   "language": "python",
   "name": "python3"
  },
  "language_info": {
   "codemirror_mode": {
    "name": "ipython",
    "version": 3
   },
   "file_extension": ".py",
   "mimetype": "text/x-python",
   "name": "python",
   "nbconvert_exporter": "python",
   "pygments_lexer": "ipython3",
   "version": "3.7.3"
  }
 },
 "nbformat": 4,
 "nbformat_minor": 2
}
